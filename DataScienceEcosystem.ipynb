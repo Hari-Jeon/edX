{
 "cells": [
  {
   "cell_type": "markdown",
   "id": "542cd891-8b55-4102-a519-86a8e29f8370",
   "metadata": {},
   "source": [
    "# Data Science Tools and Ecosystem"
   ]
  },
  {
   "cell_type": "markdown",
   "id": "216328f3-8d39-4bf3-9d0d-a710d0f8846b",
   "metadata": {},
   "source": [
    "In this notebook, Data Science Tools and Ecosystem are summarized."
   ]
  },
  {
   "cell_type": "markdown",
   "id": "b1cbee3e-62c1-4d80-9f6e-89883ece47a5",
   "metadata": {},
   "source": [
    "**Objectives:**\n",
    "- List popular languages for Data Science\n",
    "- List common libraries used by Data Scientists\n",
    "- Evaluate arithmetic expresions in Python"
   ]
  },
  {
   "cell_type": "markdown",
   "id": "c3131a1a-d7f9-4ee7-b96e-60fb7125f80b",
   "metadata": {},
   "source": [
    "Some of the popular languages that Data Scientists use are:\n",
    "1. Python\n",
    "2. R\n",
    "3. SQL"
   ]
  },
  {
   "cell_type": "markdown",
   "id": "fa37174b-27e8-477d-9da1-b6c787fbf64d",
   "metadata": {},
   "source": [
    "Some of the commonly used libraries used by Data Scientists include:\n",
    "1. Pandas\n",
    "2. NumPy\n",
    "3. Matplotlib"
   ]
  },
  {
   "cell_type": "markdown",
   "id": "e4327934-c4e9-4bfd-8594-1c14ab0cc704",
   "metadata": {},
   "source": [
    "| Data Science Tools |\n",
    "| :---               |\r\n",
    "|RStudio  |\r\n",
    "|Visual Studio Code   |\r",
    "|Jupyter Notebook    |"
   ]
  },
  {
   "cell_type": "markdown",
   "id": "7a93bbe1-0771-4d10-b368-6c6dddaa139c",
   "metadata": {},
   "source": [
    "### Below are a few examples of evaluating arithmetic expressions in Python"
   ]
  },
  {
   "cell_type": "code",
   "execution_count": 4,
   "id": "fefda1b9-e8f7-43fb-adda-5fbf0cc3c616",
   "metadata": {},
   "outputs": [
    {
     "data": {
      "text/plain": [
       "17"
      ]
     },
     "execution_count": 4,
     "metadata": {},
     "output_type": "execute_result"
    }
   ],
   "source": [
    "# This a simple arithmetic expression to mutiply then add integers\n",
    "(3*4)+5"
   ]
  },
  {
   "cell_type": "code",
   "execution_count": 5,
   "id": "29c6b2bd-a8d0-43fd-bd90-5a4a39f72133",
   "metadata": {},
   "outputs": [
    {
     "data": {
      "text/plain": [
       "3.3333333333333335"
      ]
     },
     "execution_count": 5,
     "metadata": {},
     "output_type": "execute_result"
    }
   ],
   "source": [
    "# This will convert 200 minutes to hours by diving by 60\n",
    "200/60"
   ]
  },
  {
   "cell_type": "markdown",
   "id": "fd73860b-10ff-4867-bbef-5792899ce6ec",
   "metadata": {},
   "source": [
    "## Author"
   ]
  },
  {
   "cell_type": "markdown",
   "id": "ff672a37-b3e1-4255-a7e1-390abc16bc17",
   "metadata": {},
   "source": [
    "Hari Jeon"
   ]
  },
  {
   "cell_type": "code",
   "execution_count": null,
   "id": "fea55cde-3c72-45be-bb40-56996e17c2fe",
   "metadata": {},
   "outputs": [],
   "source": []
  }
 ],
 "metadata": {
  "kernelspec": {
   "display_name": "Python 3 (ipykernel)",
   "language": "python",
   "name": "python3"
  },
  "language_info": {
   "codemirror_mode": {
    "name": "ipython",
    "version": 3
   },
   "file_extension": ".py",
   "mimetype": "text/x-python",
   "name": "python",
   "nbconvert_exporter": "python",
   "pygments_lexer": "ipython3",
   "version": "3.11.8"
  }
 },
 "nbformat": 4,
 "nbformat_minor": 5
}
